{
 "cells": [
  {
   "cell_type": "code",
   "execution_count": 1,
   "metadata": {},
   "outputs": [
    {
     "name": "stdout",
     "output_type": "stream",
     "text": [
      "your grade is B\n"
     ]
    }
   ],
   "source": [
    "mark = 74\n",
    "\n",
    "if mark > 80 :\n",
    "    print(\"your grade is A\")\n",
    "elif mark < 80 and mark > 60 :\n",
    "    print(\"your grade is B\")\n",
    "elif mark < 60 and mark > 35:\n",
    "    print(\"your grade is C\")\n",
    "else:\n",
    "    print(\"you are failed\") "
   ]
  },
  {
   "cell_type": "code",
   "execution_count": 10,
   "metadata": {},
   "outputs": [
    {
     "name": "stdout",
     "output_type": "stream",
     "text": [
      "It cannot be divisible\n"
     ]
    }
   ],
   "source": [
    "a = int(input(\"Enter a number:\"))\n",
    "b = a%4\n",
    "\n",
    "if b == 0 :\n",
    "    print(\"It is divisible by 4\")\n",
    "else:\n",
    "    print(\"It cannot be divisible\")"
   ]
  }
 ],
 "metadata": {
  "kernelspec": {
   "display_name": "Python 3",
   "language": "python",
   "name": "python3"
  },
  "language_info": {
   "codemirror_mode": {
    "name": "ipython",
    "version": 3
   },
   "file_extension": ".py",
   "mimetype": "text/x-python",
   "name": "python",
   "nbconvert_exporter": "python",
   "pygments_lexer": "ipython3",
   "version": "3.12.4"
  }
 },
 "nbformat": 4,
 "nbformat_minor": 2
}
