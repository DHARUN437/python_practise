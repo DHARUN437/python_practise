{
 "cells": [
  {
   "cell_type": "markdown",
   "metadata": {},
   "source": [
    "Create a class called Rectangle with attributes length and width. Implement methods to calculate the area and perimeter of the rectangle.\n"
   ]
  },
  {
   "cell_type": "code",
   "execution_count": 5,
   "metadata": {},
   "outputs": [
    {
     "name": "stdout",
     "output_type": "stream",
     "text": [
      "The area of the rectanhgle is 136\n",
      "The perimetr of the rectangle is 50\n",
      "The area of the rectanhgle is 60\n",
      "The perimetr of the rectangle is 34\n"
     ]
    }
   ],
   "source": [
    "class Rectangle:\n",
    "    def __init__(self,length,width):\n",
    "        self.length = length\n",
    "        self.width = width\n",
    "    \n",
    "    def area(self):\n",
    "        print (f\"The area of the rectanhgle is {self.length*self.width}\")\n",
    "    \n",
    "    def perimeter(self):\n",
    "        print (f\"The perimetr of the rectangle is {2*(self.length+ self.width)}\")\n",
    "    \n",
    "rect1 = Rectangle(8,17)  \n",
    "rect2 = Rectangle(5,12) \n",
    "\n",
    "rect1.area()\n",
    "rect1.perimeter()\n",
    "\n",
    "rect2.area()\n",
    "rect2.perimeter()\n"
   ]
  },
  {
   "cell_type": "markdown",
   "metadata": {},
   "source": [
    "Create a class called Circle with attribute radius. Implement methods to calculate the area and circumference of the circle."
   ]
  },
  {
   "cell_type": "code",
   "execution_count": 6,
   "metadata": {},
   "outputs": [
    {
     "name": "stdout",
     "output_type": "stream",
     "text": [
      "The area of the circle is 153.93804002589985\n",
      "The circumference of the circle is 43.982297150257104\n",
      "The area of the circle is 452.3893421169302\n",
      "The circumference of the circle is 75.39822368615503\n"
     ]
    }
   ],
   "source": [
    "from math import pi\n",
    "\n",
    "\n",
    "class Circle:\n",
    "    pi = 3.4\n",
    "    def __init__(self,radius):\n",
    "        self.radius = radius\n",
    "       \n",
    "    def area(self):\n",
    "        print(f\"The area of the circle is {pi*(self.radius*self.radius)}\")\n",
    "    \n",
    "    def circumference(self):\n",
    "        print(f\"The circumference of the circle is {(2*pi)*self.radius}\")\n",
    "\n",
    "cir1 = Circle(7)  \n",
    "cir2 = Circle(12) \n",
    "\n",
    "cir1.area()\n",
    "cir1.circumference()\n",
    "\n",
    "cir2.area()\n",
    "cir2.circumference()\n",
    "        "
   ]
  },
  {
   "cell_type": "markdown",
   "metadata": {},
   "source": [
    "Create a class called Employee with attributes name, age, and salary. Implement a method called increase_salary that takes a percentage increase as input and updates the employee's salary accordingly.\n"
   ]
  },
  {
   "cell_type": "code",
   "execution_count": 13,
   "metadata": {},
   "outputs": [
    {
     "name": "stdout",
     "output_type": "stream",
     "text": [
      "The increased salary of Dharun is 63720.0\n"
     ]
    }
   ],
   "source": [
    "n = input(\"Enter name:\")\n",
    "a = int(input(\"Enter age:\"))\n",
    "s = int(input(\"Enter salary:\"))\n",
    "class Employee:\n",
    "    def __init__(self,name,age,salary):\n",
    "        self.name = name\n",
    "        self.age = age\n",
    "        self.salary = salary\n",
    "    \n",
    "    def increase_salary(self,percentage):\n",
    "        self.salary = self.salary + (self.salary*percentage/100)\n",
    "        print(f\"The increased salary of {self.name} is {self.salary}\")\n",
    "\n",
    "e = Employee(n,a,s)\n",
    "\n",
    "e.increase_salary(18)\n"
   ]
  },
  {
   "cell_type": "markdown",
   "metadata": {},
   "source": [
    "Create a class called BankAccount with attributes account_number, holder_name, and balance. Implement methods to deposit and withdraw funds from the account.\n"
   ]
  },
  {
   "cell_type": "code",
   "execution_count": 21,
   "metadata": {},
   "outputs": [
    {
     "name": "stdout",
     "output_type": "stream",
     "text": [
      "Hi!! Dharun total balance of your account is 13601\n",
      "Hi!! Dharun total balance of your account is 12857\n"
     ]
    }
   ],
   "source": [
    "a = int(input(\"Enter account number:\"))\n",
    "n = input(\"Enter name:\")\n",
    "b = int(input(\"Enter balance:\"))\n",
    "class Bankaccount:\n",
    "    def __init__(self,account_number,holder_name,balance):\n",
    "        self.account_number = account_number\n",
    "        self.holder_name = holder_name\n",
    "        self.balance = balance\n",
    "    \n",
    "    def deposit(self,amount):\n",
    "         self.balance = self.balance + amount\n",
    "         print(f\"Hi!! {self.holder_name} total balance of your account is {self.balance}\")\n",
    "        \n",
    "    def withdraw(self,amount):\n",
    "         self.balance = self.balance - amount\n",
    "         print(f\"Hi!! {self.holder_name} total balance of your account is {self.balance}\")\n",
    "        \n",
    "account = Bankaccount(a,n,b)\n",
    "account.deposit(8744)\n",
    "account.withdraw(744)\n"
   ]
  },
  {
   "cell_type": "markdown",
   "metadata": {},
   "source": [
    "Create a class called Car with attributes  model, and year. Implement a method called start_engine that prints a message indicating the car has started.\n"
   ]
  },
  {
   "cell_type": "code",
   "execution_count": 2,
   "metadata": {},
   "outputs": [
    {
     "name": "stdout",
     "output_type": "stream",
     "text": [
      "The Toyota 2020 has started the engine.\n"
     ]
    }
   ],
   "source": [
    "class Car:\n",
    "    def __init__(self,model,year):\n",
    "        self.model = model\n",
    "        self.year = year\n",
    "    \n",
    "    def start_engine(self):\n",
    "        print(f\"The {self.model} {self.year} has started the engine.\")                  \n",
    "        \n",
    "car1 = Car(\"Toyota\", 2020)\n",
    "\n",
    "car1.start_engine()                        "
   ]
  },
  {
   "cell_type": "markdown",
   "metadata": {},
   "source": [
    " Create a class called Student with attributes name, age, and grades (a list of integers). Implement methods to calculate the average grade and determine if the student has passed (average grade >= 60).\n"
   ]
  },
  {
   "cell_type": "code",
   "execution_count": 3,
   "metadata": {},
   "outputs": [
    {
     "name": "stdout",
     "output_type": "stream",
     "text": [
      "Dharun has an average grade of 85.0\n",
      "Has Dharun passed? Yes\n"
     ]
    }
   ],
   "source": [
    "class Student:\n",
    "    def __init__(self, name, age, grades):\n",
    "        self.name = name\n",
    "        self.age = age\n",
    "        self.grades = grades\n",
    "\n",
    "    def average_grade(self):\n",
    "        return sum(self.grades) / len(self.grades) if self.grades else 0\n",
    "\n",
    "    def has_passed(self):\n",
    "        return self.average_grade() >= 60\n",
    "\n",
    "student = Student(\"Dharun\", 20, [70, 80, 90, 100])\n",
    "print(f\"{student.name} has an average grade of {student.average_grade()}\")\n",
    "print(f\"Has {student.name} passed? {'Yes' if student.has_passed() else 'No'}\")\n"
   ]
  },
  {
   "cell_type": "markdown",
   "metadata": {},
   "source": [
    "Create a class called Book with attributes title, author, and year. Implement a method called get_age that returns the age of the book (current year - publication year).\n"
   ]
  },
  {
   "cell_type": "code",
   "execution_count": 4,
   "metadata": {},
   "outputs": [
    {
     "name": "stdout",
     "output_type": "stream",
     "text": [
      "The book 'To Kill a Mockingbird' by Harper Lee is 64 years old.\n"
     ]
    }
   ],
   "source": [
    "from datetime import datetime\n",
    "\n",
    "class Book:\n",
    "    def __init__(self, title, author, year):\n",
    "        self.title = title\n",
    "        self.author = author\n",
    "        self.year = year\n",
    "\n",
    "    def get_age(self):\n",
    "        current_year = datetime.now().year\n",
    "        return current_year - self.year\n",
    "\n",
    "book = Book(\"To Kill a Mockingbird\", \"Harper Lee\", 1960)\n",
    "print(f\"The book '{book.title}' by {book.author} is {book.get_age()} years old.\")\n"
   ]
  },
  {
   "cell_type": "markdown",
   "metadata": {},
   "source": [
    "Create a class called Shape with an abstract method called calculate_area. Create two subclasses Rectangle and Triangle that inherit from Shape and implement the calculate_area method accordingly."
   ]
  },
  {
   "cell_type": "code",
   "execution_count": 5,
   "metadata": {},
   "outputs": [
    {
     "name": "stdout",
     "output_type": "stream",
     "text": [
      "The area of the rectangle is 20\n",
      "The area of the triangle is 9.0\n"
     ]
    }
   ],
   "source": [
    "from abc import ABC, abstractmethod\n",
    "\n",
    "class Shape(ABC):\n",
    "    @abstractmethod\n",
    "    def calculate_area(self):\n",
    "        pass\n",
    "\n",
    "class Rectangle(Shape):\n",
    "    def __init__(self, width, height):\n",
    "        self.width = width\n",
    "        self.height = height\n",
    "\n",
    "    def calculate_area(self):\n",
    "        return self.width * self.height\n",
    "\n",
    "class Triangle(Shape):\n",
    "    def __init__(self, base, height):\n",
    "        self.base = base\n",
    "        self.height = height\n",
    "\n",
    "    def calculate_area(self):\n",
    "        return 0.5 * self.base * self.height\n",
    "\n",
    "rectangle = Rectangle(4, 5)\n",
    "triangle = Triangle(3, 6)\n",
    "\n",
    "print(f\"The area of the rectangle is {rectangle.calculate_area()}\")\n",
    "print(f\"The area of the triangle is {triangle.calculate_area()}\")\n"
   ]
  },
  {
   "cell_type": "markdown",
   "metadata": {},
   "source": [
    "Create a class called Person with attributes name and address. Create a subclass Student that inherits from Person and adds an attribute student_id. Implement a method in the Student class to display student information.\n"
   ]
  },
  {
   "cell_type": "code",
   "execution_count": 6,
   "metadata": {},
   "outputs": [
    {
     "name": "stdout",
     "output_type": "stream",
     "text": [
      "Student Name: John Doe, Address: 123 Main St, Student ID: S123456\n"
     ]
    }
   ],
   "source": [
    "class Person:\n",
    "    def __init__(self, name, address):\n",
    "        self.name = name\n",
    "        self.address = address\n",
    "\n",
    "class Student(Person):\n",
    "    def __init__(self, name, address, student_id):\n",
    "        super().__init__(name, address)\n",
    "        self.student_id = student_id\n",
    "\n",
    "    def display_info(self):\n",
    "        return f\"Student Name: {self.name}, Address: {self.address}, Student ID: {self.student_id}\"\n",
    "\n",
    "student = Student(\"John Doe\", \"123 Main St\", \"S123456\")\n",
    "print(student.display_info())\n"
   ]
  },
  {
   "cell_type": "markdown",
   "metadata": {},
   "source": [
    "Create a class called Bank with a dictionary attribute accounts, where the keys are account numbers and the values are instances of a BankAccount class. Implement methods to add accounts, retrieve account information, and perform transactions like deposit and withdrawal"
   ]
  },
  {
   "cell_type": "code",
   "execution_count": 8,
   "metadata": {},
   "outputs": [
    {
     "name": "stdout",
     "output_type": "stream",
     "text": [
      "Account Number: 123456, Account Holder: Alice, Balance: $1000\n",
      "Account Number: 123456, Account Holder: Alice, Balance: $1200\n",
      "Account Number: 789012, Account Holder: Bob, Balance: $500\n",
      "Account Number: 789012, Account Holder: Bob, Balance: $400\n"
     ]
    }
   ],
   "source": [
    "class BankAccount:\n",
    "    def __init__(self, account_number, account_holder, balance=0):\n",
    "        self.account_number = account_number\n",
    "        self.account_holder = account_holder\n",
    "        self.balance = balance\n",
    "\n",
    "    def deposit(self, amount):\n",
    "        if amount > 0:\n",
    "            self.balance += amount\n",
    "            return True\n",
    "        return False\n",
    "\n",
    "    def withdraw(self, amount):\n",
    "        if 0 < amount <= self.balance:\n",
    "            self.balance -= amount\n",
    "            return True\n",
    "        return False\n",
    "\n",
    "    def get_info(self):\n",
    "        return f\"Account Number: {self.account_number}, Account Holder: {self.account_holder}, Balance: ${self.balance}\"\n",
    "\n",
    "class Bank:\n",
    "    def __init__(self):\n",
    "        self.accounts = {}\n",
    "\n",
    "    def add_account(self, account_number, account_holder, initial_balance=0):\n",
    "        if account_number not in self.accounts:\n",
    "            self.accounts[account_number] = BankAccount(account_number, account_holder, initial_balance)\n",
    "            return True\n",
    "        return False\n",
    "\n",
    "    def get_account_info(self, account_number):\n",
    "        if account_number in self.accounts:\n",
    "            return self.accounts[account_number].get_info()\n",
    "        return \"Account not found.\"\n",
    "\n",
    "    def deposit(self, account_number, amount):\n",
    "        if account_number in self.accounts:\n",
    "            return self.accounts[account_number].deposit(amount)\n",
    "        return False\n",
    "\n",
    "    def withdraw(self, account_number, amount):\n",
    "        if account_number in self.accounts:\n",
    "            return self.accounts[account_number].withdraw(amount)\n",
    "        return False\n",
    "\n",
    "bank = Bank()\n",
    "bank.add_account(\"123456\", \"Alice\", 1000)\n",
    "bank.add_account(\"789012\", \"Bob\", 500)\n",
    "\n",
    "print(bank.get_account_info(\"123456\"))\n",
    "bank.deposit(\"123456\", 200)\n",
    "print(bank.get_account_info(\"123456\"))\n",
    "\n",
    "print(bank.get_account_info(\"789012\"))\n",
    "bank.withdraw(\"789012\", 100)\n",
    "print(bank.get_account_info(\"789012\"))\n"
   ]
  }
 ],
 "metadata": {
  "kernelspec": {
   "display_name": "Python 3",
   "language": "python",
   "name": "python3"
  },
  "language_info": {
   "codemirror_mode": {
    "name": "ipython",
    "version": 3
   },
   "file_extension": ".py",
   "mimetype": "text/x-python",
   "name": "python",
   "nbconvert_exporter": "python",
   "pygments_lexer": "ipython3",
   "version": "3.12.4"
  }
 },
 "nbformat": 4,
 "nbformat_minor": 2
}
