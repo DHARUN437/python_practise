{
 "cells": [
  {
   "cell_type": "markdown",
   "metadata": {},
   "source": [
    "Create a class called Rectangle with attributes length and width. Implement methods to calculate the area and perimeter of the rectangle.\n"
   ]
  },
  {
   "cell_type": "code",
   "execution_count": 5,
   "metadata": {},
   "outputs": [
    {
     "name": "stdout",
     "output_type": "stream",
     "text": [
      "The area of the rectanhgle is 136\n",
      "The perimetr of the rectangle is 50\n",
      "The area of the rectanhgle is 60\n",
      "The perimetr of the rectangle is 34\n"
     ]
    }
   ],
   "source": [
    "class Rectangle:\n",
    "    def __init__(self,length,width):\n",
    "        self.length = length\n",
    "        self.width = width\n",
    "    \n",
    "    def area(self):\n",
    "        print (f\"The area of the rectanhgle is {self.length*self.width}\")\n",
    "    \n",
    "    def perimeter(self):\n",
    "        print (f\"The perimetr of the rectangle is {2*(self.length+ self.width)}\")\n",
    "    \n",
    "rect1 = Rectangle(8,17)  \n",
    "rect2 = Rectangle(5,12) \n",
    "\n",
    "rect1.area()\n",
    "rect1.perimeter()\n",
    "\n",
    "rect2.area()\n",
    "rect2.perimeter()\n"
   ]
  },
  {
   "cell_type": "markdown",
   "metadata": {},
   "source": [
    "Create a class called Circle with attribute radius. Implement methods to calculate the area and circumference of the circle."
   ]
  },
  {
   "cell_type": "code",
   "execution_count": 6,
   "metadata": {},
   "outputs": [
    {
     "name": "stdout",
     "output_type": "stream",
     "text": [
      "The area of the circle is 153.93804002589985\n",
      "The circumference of the circle is 43.982297150257104\n",
      "The area of the circle is 452.3893421169302\n",
      "The circumference of the circle is 75.39822368615503\n"
     ]
    }
   ],
   "source": [
    "from math import pi\n",
    "\n",
    "\n",
    "class Circle:\n",
    "    pi = 3.4\n",
    "    def __init__(self,radius):\n",
    "        self.radius = radius\n",
    "       \n",
    "    def area(self):\n",
    "        print(f\"The area of the circle is {pi*(self.radius*self.radius)}\")\n",
    "    \n",
    "    def circumference(self):\n",
    "        print(f\"The circumference of the circle is {(2*pi)*self.radius}\")\n",
    "\n",
    "cir1 = Circle(7)  \n",
    "cir2 = Circle(12) \n",
    "\n",
    "cir1.area()\n",
    "cir1.circumference()\n",
    "\n",
    "cir2.area()\n",
    "cir2.circumference()\n",
    "        "
   ]
  },
  {
   "cell_type": "markdown",
   "metadata": {},
   "source": [
    "Create a class called Employee with attributes name, age, and salary. Implement a method called increase_salary that takes a percentage increase as input and updates the employee's salary accordingly.\n"
   ]
  },
  {
   "cell_type": "code",
   "execution_count": 13,
   "metadata": {},
   "outputs": [
    {
     "name": "stdout",
     "output_type": "stream",
     "text": [
      "The increased salary of Dharun is 63720.0\n"
     ]
    }
   ],
   "source": [
    "n = input(\"Enter name:\")\n",
    "a = int(input(\"Enter age:\"))\n",
    "s = int(input(\"Enter salary:\"))\n",
    "class Employee:\n",
    "    def __init__(self,name,age,salary):\n",
    "        self.name = name\n",
    "        self.age = age\n",
    "        self.salary = salary\n",
    "    \n",
    "    def increase_salary(self,percentage):\n",
    "        self.salary = self.salary + (self.salary*percentage/100)\n",
    "        print(f\"The increased salary of {self.name} is {self.salary}\")\n",
    "\n",
    "e = Employee(n,a,s)\n",
    "\n",
    "e.increase_salary(18)\n"
   ]
  },
  {
   "cell_type": "markdown",
   "metadata": {},
   "source": [
    "Create a class called BankAccount with attributes account_number, holder_name, and balance. Implement methods to deposit and withdraw funds from the account.\n"
   ]
  },
  {
   "cell_type": "code",
   "execution_count": 21,
   "metadata": {},
   "outputs": [
    {
     "name": "stdout",
     "output_type": "stream",
     "text": [
      "Hi!! Dharun total balance of your account is 13601\n",
      "Hi!! Dharun total balance of your account is 12857\n"
     ]
    }
   ],
   "source": [
    "a = int(input(\"Enter account number:\"))\n",
    "n = input(\"Enter name:\")\n",
    "b = int(input(\"Enter balance:\"))\n",
    "class Bankaccount:\n",
    "    def __init__(self,account_number,holder_name,balance):\n",
    "        self.account_number = account_number\n",
    "        self.holder_name = holder_name\n",
    "        self.balance = balance\n",
    "    \n",
    "    def deposit(self,amount):\n",
    "         self.balance = self.balance + amount\n",
    "         print(f\"Hi!! {self.holder_name} total balance of your account is {self.balance}\")\n",
    "        \n",
    "    def withdraw(self,amount):\n",
    "         self.balance = self.balance - amount\n",
    "         print(f\"Hi!! {self.holder_name} total balance of your account is {self.balance}\")\n",
    "        \n",
    "account = Bankaccount(a,n,b)\n",
    "account.deposit(8744)\n",
    "account.withdraw(744)\n"
   ]
  }
 ],
 "metadata": {
  "kernelspec": {
   "display_name": "Python 3",
   "language": "python",
   "name": "python3"
  },
  "language_info": {
   "codemirror_mode": {
    "name": "ipython",
    "version": 3
   },
   "file_extension": ".py",
   "mimetype": "text/x-python",
   "name": "python",
   "nbconvert_exporter": "python",
   "pygments_lexer": "ipython3",
   "version": "3.12.4"
  }
 },
 "nbformat": 4,
 "nbformat_minor": 2
}
