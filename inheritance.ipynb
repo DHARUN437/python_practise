{
 "cells": [
  {
   "cell_type": "code",
   "execution_count": 1,
   "metadata": {},
   "outputs": [
    {
     "name": "stdout",
     "output_type": "stream",
     "text": [
      "Satyam 102\n",
      "Mayank 103\n",
      "Emp class called\n"
     ]
    }
   ],
   "source": [
    "# A Python program to demonstrate Single inheritance\n",
    "class Person:\n",
    "\n",
    "    # Constructor\n",
    "    def __init__(self, name, id):\n",
    "        self.name = name\n",
    "        self.id = id\n",
    "\n",
    "    # To check if this person is an employee\n",
    "    def Display(self):\n",
    "        print(self.name, self.id)\n",
    "\n",
    "class Emp(Person):\n",
    "\n",
    "    def Print(self):\n",
    "        print(\"Emp class called\")\n",
    "\t\n",
    " \n",
    " \n",
    "# Driver code // Base class\n",
    "emp = Person(\"Satyam\", 102) # An Object of Person\n",
    "emp.Display()\n",
    "\n",
    "\n",
    "# Derivd code // Child class\n",
    "Emp_details = Emp(\"Mayank\", 103)\n",
    "# calling parent class function\n",
    "Emp_details.Display()\n",
    "# Calling child class function\n",
    "Emp_details.Print()"
   ]
  },
  {
   "cell_type": "markdown",
   "metadata": {},
   "source": [
    "error and exception handling"
   ]
  },
  {
   "cell_type": "code",
   "execution_count": 8,
   "metadata": {},
   "outputs": [
    {
     "name": "stdout",
     "output_type": "stream",
     "text": [
      "Result:  0.8333333333333334\n",
      "No exceptions detected\n",
      "I will always get executed\n"
     ]
    }
   ],
   "source": [
    "try:\n",
    "    val_1 = int(input(\"Please 1st enter an integer: \"))\n",
    "    val_2 = int(input(\"Please 2nd enter an integer: \"))\n",
    "    result = val_1/val_2\n",
    "    print(\"Result: \",result)\n",
    "except ValueError:\n",
    "    print(\"Looks like you did not enter an integer!\")\n",
    "except ZeroDivisionError:\n",
    "    print(\"Give value other than 0\")\n",
    "except:\n",
    "    print(\"No idea about the error\")\n",
    "else:\n",
    "    print(\"No exceptions detected\")\n",
    "finally:\n",
    "    print(\"I will always get executed\")"
   ]
  },
  {
   "cell_type": "code",
   "execution_count": 9,
   "metadata": {},
   "outputs": [
    {
     "name": "stdout",
     "output_type": "stream",
     "text": [
      "Looks like you did not enter an integer!\n",
      "Finally, I executed!\n",
      "Looks like you did not enter an integer!\n",
      "Finally, I executed!\n",
      "Looks like you did not enter an integer!\n",
      "Finally, I executed!\n",
      "Yep that's an integer!\n",
      "Finally, I executed!\n"
     ]
    }
   ],
   "source": [
    "def askint():\n",
    "    while True:\n",
    "        try:\n",
    "            val = int(input(\"Please enter an integer: \"))\n",
    "        except:\n",
    "            print(\"Looks like you did not enter an integer!\")\n",
    "            continue\n",
    "        else:\n",
    "            print(\"Yep that's an integer!\")\n",
    "            break\n",
    "        finally:     \n",
    "            print(\"Finally, I executed!\")\n",
    "        print(val)\n",
    "askint()"
   ]
  }
 ],
 "metadata": {
  "kernelspec": {
   "display_name": "Python 3",
   "language": "python",
   "name": "python3"
  },
  "language_info": {
   "codemirror_mode": {
    "name": "ipython",
    "version": 3
   },
   "file_extension": ".py",
   "mimetype": "text/x-python",
   "name": "python",
   "nbconvert_exporter": "python",
   "pygments_lexer": "ipython3",
   "version": "3.12.4"
  }
 },
 "nbformat": 4,
 "nbformat_minor": 2
}
