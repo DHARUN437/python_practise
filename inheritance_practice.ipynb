{
 "cells": [
  {
   "cell_type": "markdown",
   "metadata": {},
   "source": [
    "Create a class called Shape with attributes color and filled. Implement subclasses Circle and Rectangle that inherit from Shape. Override the calculate_area method in each subclass to calculate the area of the respective shape. Demonstrate polymorphism by creating instances of both subclasses and calling the calculate_area method."
   ]
  },
  {
   "cell_type": "code",
   "execution_count": 7,
   "metadata": {},
   "outputs": [
    {
     "name": "stdout",
     "output_type": "stream",
     "text": [
      "A Red shape with area: 78.53981633974483\n",
      "A Blue shape with area: 24\n"
     ]
    }
   ],
   "source": [
    "import math\n",
    "\n",
    "class Shape:\n",
    "   \n",
    "   def __init__(self, color, filled):\n",
    "        self.color = color\n",
    "        self.filled = filled\n",
    "\n",
    "class Circle(Shape):\n",
    "    def __init__(self, color, filled, radius):\n",
    "        super().__init__(color, filled)\n",
    "        self.radius = radius\n",
    "\n",
    "    def calculate_area(self):\n",
    "        return math.pi * self.radius ** 2\n",
    "    \n",
    "class Rectangle(Shape):\n",
    "    def __init__(self, color, filled, length, width):\n",
    "        super().__init__(color, filled)\n",
    "        self.length = length\n",
    "        self.width = width\n",
    "     \n",
    "    def calculate_area(self):\n",
    "        return self.length * self.width\n",
    "    \n",
    "shapes = [\n",
    "    Circle(\"Red\", True, 5),\n",
    "    Rectangle(\"Blue\", False, 4, 6)\n",
    "]\n",
    "\n",
    "for shape in shapes:\n",
    "    print(f\"A {shape.color} shape with area: {shape.calculate_area()}\")\n",
    "\n",
    "        \n",
    "        "
   ]
  },
  {
   "cell_type": "markdown",
   "metadata": {},
   "source": [
    "Create a class called Animal with a method called make_sound. Implement subclasses Dog and Cat that inherit from Animal. Override the make_sound method in each subclass to produce the appropriate sound for the animal. Demonstrate polymorphism by creating instances of both subclasses and calling the make_sound method."
   ]
  },
  {
   "cell_type": "code",
   "execution_count": 20,
   "metadata": {},
   "outputs": [
    {
     "name": "stdout",
     "output_type": "stream",
     "text": [
      "Nemo barks: Woof!\n",
      "Fluffy meows: Meow!\n"
     ]
    }
   ],
   "source": [
    "class Animal:\n",
    "     def __init__(self, name):\n",
    "        self.name = name\n",
    "        \n",
    "class Dog(Animal):\n",
    "    def make_sound(self):   \n",
    "        return f\"{self.name} barks: Woof!\"\n",
    "\n",
    "class Cat(Animal):\n",
    "    def make_sound(self):\n",
    "        return f\"{self.name} meows: Meow!\"\n",
    "    \n",
    "a = Dog(\"Nemo\")\n",
    "b = Cat(\"Fluffy\")\n",
    "\n",
    "print(a.make_sound())\n",
    "print(b.make_sound())\n",
    "        "
   ]
  },
  {
   "cell_type": "markdown",
   "metadata": {},
   "source": [
    "Create a class called Person with attributes name and age. Implement a subclass called Employee that inherits from Person and adds an attribute employee_id. Demonstrate encapsulation by making the name and age attributes private and providing getter and setter methods to access and modify them."
   ]
  },
  {
   "cell_type": "code",
   "execution_count": 2,
   "metadata": {},
   "outputs": [
    {
     "name": "stdout",
     "output_type": "stream",
     "text": [
      "Name: Alice, Age: 30, Employee ID: E123\n",
      "Updated Name: Bob, Updated Age: 35\n"
     ]
    }
   ],
   "source": [
    "class Person:\n",
    "    def __init__(self, name, age):\n",
    "        self._name = name  # Private attribute\n",
    "        self._age = age    # Private attribute\n",
    "\n",
    "    # Getter for name\n",
    "    @property\n",
    "    def name(self):\n",
    "        return self._name\n",
    "\n",
    "    # Setter for name\n",
    "    @name.setter\n",
    "    def name(self, value):\n",
    "        if not isinstance(value, str):\n",
    "            raise ValueError(\"Name must be a string\")\n",
    "        self._name = value\n",
    "\n",
    "    # Getter for age\n",
    "    @property\n",
    "    def age(self):\n",
    "        return self._age\n",
    "\n",
    "    # Setter for age\n",
    "    @age.setter\n",
    "    def age(self, value):\n",
    "        if not isinstance(value, int) or value < 0:\n",
    "            raise ValueError(\"Age must be a non-negative integer\")\n",
    "        self._age = value\n",
    "\n",
    "class Employee(Person):\n",
    "    def __init__(self, name, age, employee_id):\n",
    "        super().__init__(name, age)\n",
    "        self.employee_id = employee_id  # Public attribute\n",
    "\n",
    "# Demonstration\n",
    "try:\n",
    "    e = Employee(\"Alice\", 30, \"E123\")\n",
    "    print(f\"Name: {e.name}, Age: {e.age}, Employee ID: {e.employee_id}\")\n",
    "\n",
    "    e.name = \"Bob\"  # Using setter\n",
    "    e.age = 35      # Using setter\n",
    "    print(f\"Updated Name: {e.name}, Updated Age: {e.age}\")\n",
    "\n",
    "    # Attempt to set invalid age\n",
    "    e.age = 5\n",
    "except ValueError as error:\n",
    "    print(error)\n"
   ]
  }
 ],
 "metadata": {
  "kernelspec": {
   "display_name": "Python 3",
   "language": "python",
   "name": "python3"
  },
  "language_info": {
   "codemirror_mode": {
    "name": "ipython",
    "version": 3
   },
   "file_extension": ".py",
   "mimetype": "text/x-python",
   "name": "python",
   "nbconvert_exporter": "python",
   "pygments_lexer": "ipython3",
   "version": "3.12.4"
  }
 },
 "nbformat": 4,
 "nbformat_minor": 2
}
