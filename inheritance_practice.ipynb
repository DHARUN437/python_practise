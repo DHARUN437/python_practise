{
 "cells": [
  {
   "cell_type": "markdown",
   "metadata": {},
   "source": [
    "Create a class called Shape with attributes color and filled. Implement subclasses Circle and Rectangle that inherit from Shape. Override the calculate_area method in each subclass to calculate the area of the respective shape. Demonstrate polymorphism by creating instances of both subclasses and calling the calculate_area method."
   ]
  },
  {
   "cell_type": "code",
   "execution_count": 7,
   "metadata": {},
   "outputs": [
    {
     "name": "stdout",
     "output_type": "stream",
     "text": [
      "A Red shape with area: 78.53981633974483\n",
      "A Blue shape with area: 24\n"
     ]
    }
   ],
   "source": [
    "import math\n",
    "\n",
    "class Shape:\n",
    "   \n",
    "   def __init__(self, color, filled):\n",
    "        self.color = color\n",
    "        self.filled = filled\n",
    "\n",
    "class Circle(Shape):\n",
    "    def __init__(self, color, filled, radius):\n",
    "        super().__init__(color, filled)\n",
    "        self.radius = radius\n",
    "\n",
    "    def calculate_area(self):\n",
    "        return math.pi * self.radius ** 2\n",
    "    \n",
    "class Rectangle(Shape):\n",
    "    def __init__(self, color, filled, length, width):\n",
    "        super().__init__(color, filled)\n",
    "        self.length = length\n",
    "        self.width = width\n",
    "     \n",
    "    def calculate_area(self):\n",
    "        return self.length * self.width\n",
    "    \n",
    "shapes = [\n",
    "    Circle(\"Red\", True, 5),\n",
    "    Rectangle(\"Blue\", False, 4, 6)\n",
    "]\n",
    "\n",
    "for shape in shapes:\n",
    "    print(f\"A {shape.color} shape with area: {shape.calculate_area()}\")\n",
    "\n",
    "        \n",
    "        "
   ]
  },
  {
   "cell_type": "markdown",
   "metadata": {},
   "source": [
    "Create a class called Animal with a method called make_sound. Implement subclasses Dog and Cat that inherit from Animal. Override the make_sound method in each subclass to produce the appropriate sound for the animal. Demonstrate polymorphism by creating instances of both subclasses and calling the make_sound method."
   ]
  },
  {
   "cell_type": "code",
   "execution_count": 20,
   "metadata": {},
   "outputs": [
    {
     "name": "stdout",
     "output_type": "stream",
     "text": [
      "Nemo barks: Woof!\n",
      "Fluffy meows: Meow!\n"
     ]
    }
   ],
   "source": [
    "class Animal:\n",
    "     def __init__(self, name):\n",
    "        self.name = name\n",
    "        \n",
    "class Dog(Animal):\n",
    "    def make_sound(self):   \n",
    "        return f\"{self.name} barks: Woof!\"\n",
    "\n",
    "class Cat(Animal):\n",
    "    def make_sound(self):\n",
    "        return f\"{self.name} meows: Meow!\"\n",
    "    \n",
    "a = Dog(\"Nemo\")\n",
    "b = Cat(\"Fluffy\")\n",
    "\n",
    "print(a.make_sound())\n",
    "print(b.make_sound())\n",
    "        "
   ]
  },
  {
   "cell_type": "markdown",
   "metadata": {},
   "source": [
    "Create a class called Person with attributes name and age. Implement a subclass called Employee that inherits from Person and adds an attribute employee_id. Demonstrate encapsulation by making the name and age attributes private and providing getter and setter methods to access and modify them."
   ]
  },
  {
   "cell_type": "code",
   "execution_count": 2,
   "metadata": {},
   "outputs": [
    {
     "name": "stdout",
     "output_type": "stream",
     "text": [
      "Name: Alice, Age: 30, Employee ID: E123\n",
      "Updated Name: Bob, Updated Age: 35\n"
     ]
    }
   ],
   "source": [
    "class Person:\n",
    "    def __init__(self, name, age):\n",
    "        self._name = name  # Private attribute\n",
    "        self._age = age    # Private attribute\n",
    "\n",
    "    # Getter for name\n",
    "    @property\n",
    "    def name(self):\n",
    "        return self._name\n",
    "\n",
    "    # Setter for name\n",
    "    @name.setter\n",
    "    def name(self, value):\n",
    "        if not isinstance(value, str):\n",
    "            raise ValueError(\"Name must be a string\")\n",
    "        self._name = value\n",
    "\n",
    "    # Getter for age\n",
    "    @property\n",
    "    def age(self):\n",
    "        return self._age\n",
    "\n",
    "    # Setter for age\n",
    "    @age.setter\n",
    "    def age(self, value):\n",
    "        if not isinstance(value, int) or value < 0:\n",
    "            raise ValueError(\"Age must be a non-negative integer\")\n",
    "        self._age = value\n",
    "\n",
    "class Employee(Person):\n",
    "    def __init__(self, name, age, employee_id):\n",
    "        super().__init__(name, age)\n",
    "        self.employee_id = employee_id  # Public attribute\n",
    "\n",
    "# Demonstration\n",
    "try:\n",
    "    e = Employee(\"Alice\", 30, \"E123\")\n",
    "    print(f\"Name: {e.name}, Age: {e.age}, Employee ID: {e.employee_id}\")\n",
    "\n",
    "    e.name = \"Bob\"  # Using setter\n",
    "    e.age = 35      # Using setter\n",
    "    print(f\"Updated Name: {e.name}, Updated Age: {e.age}\")\n",
    "\n",
    "    # Attempt to set invalid age\n",
    "    e.age = 5\n",
    "except ValueError as error:\n",
    "    print(error)\n"
   ]
  },
  {
   "cell_type": "markdown",
   "metadata": {},
   "source": [
    "Create a class called BankAccount with attributes account_number and balance. Implement subclasses CheckingAccount and SavingsAccount that inherit from BankAccount. Add specific methods for each subclass, such as withdraw and deposit. Demonstrate inheritance by creating instances of both subclasses and calling their specific methods."
   ]
  },
  {
   "cell_type": "code",
   "execution_count": 1,
   "metadata": {},
   "outputs": [
    {
     "name": "stdout",
     "output_type": "stream",
     "text": [
      "Deposited $200. New balance: $700.\n",
      "Deposited $300. New balance: $1300.\n",
      "Withdrew $150. New balance: $550.\n",
      "Withdrew $200. New balance: $1100.\n",
      "Checking account balance: $550\n",
      "Savings account balance: $1100\n"
     ]
    }
   ],
   "source": [
    "class BankAccount:\n",
    "    def __init__(self, account_number, balance=0):\n",
    "        self.account_number = account_number\n",
    "        self.balance = balance\n",
    "\n",
    "    def deposit(self, amount):\n",
    "        if amount > 0:\n",
    "            self.balance += amount\n",
    "            print(f\"Deposited ${amount}. New balance: ${self.balance}.\")\n",
    "        else:\n",
    "            print(\"Deposit amount must be positive.\")\n",
    "\n",
    "    def get_balance(self):\n",
    "        return self.balance\n",
    "\n",
    "class CheckingAccount(BankAccount):\n",
    "    def __init__(self, account_number, balance=0):\n",
    "        super().__init__(account_number, balance)\n",
    "\n",
    "    def withdraw(self, amount):\n",
    "        if amount > 0 and amount <= self.balance:\n",
    "            self.balance -= amount\n",
    "            print(f\"Withdrew ${amount}. New balance: ${self.balance}.\")\n",
    "        elif amount > self.balance:\n",
    "            print(\"Insufficient funds.\")\n",
    "        else:\n",
    "            print(\"Withdraw amount must be positive.\")\n",
    "\n",
    "class SavingsAccount(BankAccount):\n",
    "    def __init__(self, account_number, balance=0):\n",
    "        super().__init__(account_number, balance)\n",
    "\n",
    "    def withdraw(self, amount):\n",
    "        if amount > 0 and amount <= self.balance:\n",
    "            self.balance -= amount\n",
    "            print(f\"Withdrew ${amount}. New balance: ${self.balance}.\")\n",
    "        elif amount > self.balance:\n",
    "            print(\"Insufficient funds.\")\n",
    "        else:\n",
    "            print(\"Withdraw amount must be positive.\")\n",
    "\n",
    "# Demonstrating inheritance and method calls\n",
    "checking_acc = CheckingAccount(\"CHK123\", 500)\n",
    "savings_acc = SavingsAccount(\"SAV456\", 1000)\n",
    "\n",
    "# Depositing money\n",
    "checking_acc.deposit(200)\n",
    "savings_acc.deposit(300)\n",
    "\n",
    "# Withdrawing money\n",
    "checking_acc.withdraw(150)\n",
    "savings_acc.withdraw(200)\n",
    "\n",
    "# Checking balances\n",
    "print(f\"Checking account balance: ${checking_acc.get_balance()}\")\n",
    "print(f\"Savings account balance: ${savings_acc.get_balance()}\")\n"
   ]
  },
  {
   "cell_type": "markdown",
   "metadata": {},
   "source": [
    " Create a class called Vehicle with attributes make and model. Implement a subclass called Car that inherits from Vehicle and adds an attribute num_doors. Implement a subclass called Motorcycle that inherits from Vehicle and adds an attribute top_speed. Demonstrate inheritance by creating instances of both subclasses and accessing their attributes."
   ]
  },
  {
   "cell_type": "code",
   "execution_count": 13,
   "metadata": {},
   "outputs": [
    {
     "name": "stdout",
     "output_type": "stream",
     "text": [
      "The tata car was made in 1995 with 4\n",
      "The 1980 made RX goes with the 90 km speed\n"
     ]
    }
   ],
   "source": [
    "class Vehicle:\n",
    "    def __init__(self, make, model):\n",
    "        self.make = make\n",
    "        self.model = model\n",
    "\n",
    "class Car(Vehicle):\n",
    "    def __init__(self, make, model, num_doors):\n",
    "        super().__init__(make, model)\n",
    "        self.num_doors = num_doors\n",
    "        \n",
    "class Motorcycle(Vehicle):\n",
    "    def __init__(self, make, model, top_speed):\n",
    "        super().__init__(make, model)\n",
    "        self.top_speed = top_speed\n",
    "        \n",
    "car = Car(1995,\"tata\",4)\n",
    "bike = Motorcycle(1980,\"RX\",90)\n",
    "\n",
    "print(f\"The {car.model} car was made in {car.make} with {car.num_doors}\")\n",
    "print(f\"The {bike.make} made {bike.model} goes with the {bike.top_speed} km speed\")\n"
   ]
  },
  {
   "cell_type": "markdown",
   "metadata": {},
   "source": [
    "Create a class called Shape with an abstract method called calculate_area. Implement subclasses Circle and Rectangle that inherit from Shape and implement the calculate_area method accordingly. Demonstrate polymorphism by creating instances of both subclasses and calling the calculate_area method."
   ]
  },
  {
   "cell_type": "code",
   "execution_count": 20,
   "metadata": {},
   "outputs": [
    {
     "name": "stdout",
     "output_type": "stream",
     "text": [
      "The area of the circle is 78.5\n",
      "The area of the rectangle is 60\n"
     ]
    }
   ],
   "source": [
    "from abc import ABC, abstractmethod\n",
    "\n",
    "class Shape(ABC):\n",
    "    @abstractmethod\n",
    "    def calculate_area(self):\n",
    "        pass\n",
    "\n",
    "class Circle(Shape):\n",
    "    pi = 3.14 \n",
    "    def __init__(self, radius):\n",
    "        self.radius = radius\n",
    "\n",
    "    def calculate_area(self):\n",
    "        return Circle.pi * (self.radius ** 2)\n",
    "\n",
    "class Rectangle(Shape):\n",
    "    def __init__(self, length, width):\n",
    "        self.length = length\n",
    "        self.width = width\n",
    "\n",
    "    def calculate_area(self):\n",
    "        return self.length * self.width\n",
    "\n",
    "\n",
    "circle = Circle(5)\n",
    "rectangle = Rectangle(5, 12)\n",
    "\n",
    "print(f\"The area of the circle is {circle.calculate_area()}\")\n",
    "print(f\"The area of the rectangle is {rectangle.calculate_area()}\")\n"
   ]
  },
  {
   "cell_type": "markdown",
   "metadata": {},
   "source": [
    "Create a class called Employee with attributes name, age, and salary. Implement a subclass called Manager that inherits from Employee and adds an attribute department. Demonstrate encapsulation by making the salary attribute protected and providing a method to access it within the Manager class."
   ]
  },
  {
   "cell_type": "code",
   "execution_count": 21,
   "metadata": {},
   "outputs": [
    {
     "name": "stdout",
     "output_type": "stream",
     "text": [
      "Manager salary: 80000\n"
     ]
    }
   ],
   "source": [
    "class Employee:\n",
    "    def __init__(self, name, age, salary):\n",
    "        self.name = name\n",
    "        self.age = age\n",
    "        self._salary = salary\n",
    "        \n",
    "class Manager(Employee):\n",
    "    def __init__(self, name, age, salary, department):\n",
    "        super().__init__(name, age, salary)\n",
    "        self.department = department\n",
    "    def slry(self):\n",
    "        return self._salary\n",
    "    \n",
    "employee = Employee(\"John Doe\", 30, 50000)\n",
    "\n",
    "manager = Manager(\"Jane Smith\", 45, 80000, \"Sales\")\n",
    "\n",
    "print(f\"Manager salary: {manager.slry()}\")  \n",
    "        "
   ]
  },
  {
   "cell_type": "markdown",
   "metadata": {},
   "source": [
    "Create a class called Animal with a method called make_sound. Implement subclasses Dog, Cat, and Bird that inherit from Animal. Override the make_sound method in each subclass to produce the appropriate sound for the animal. Demonstrate polymorphism by creating a list of animal objects and calling the make_sound method for each object."
   ]
  },
  {
   "cell_type": "code",
   "execution_count": 1,
   "metadata": {},
   "outputs": [
    {
     "name": "stdout",
     "output_type": "stream",
     "text": [
      "Woof\n",
      "Meow\n",
      "Chirp\n"
     ]
    }
   ],
   "source": [
    "class Animal:\n",
    "    def make_sound(self):\n",
    "     pass  \n",
    "class Dog(Animal):\n",
    "    def make_sound(self):\n",
    "       print(f\"Woof\")\n",
    "class Cat(Animal):\n",
    "    def make_sound(self):\n",
    "        print(f\"Meow\")\n",
    "class Bird(Animal):\n",
    "    def make_sound(self):\n",
    "        print(f\"Chirp\")\n",
    "\n",
    "dog = Dog()\n",
    "dog.make_sound()\n",
    "cat = Cat()\n",
    "cat.make_sound()\n",
    "bird = Bird()\n",
    "bird.make_sound()\n"
   ]
  },
  {
   "cell_type": "markdown",
   "metadata": {},
   "source": [
    " Create a class called BankAccount with attributes account_number and balance. Implement methods to deposit and withdraw funds from the account. Add a class variable called total_accounts to keep track of the total number of bank accounts created."
   ]
  },
  {
   "cell_type": "code",
   "execution_count": 4,
   "metadata": {},
   "outputs": [
    {
     "name": "stdout",
     "output_type": "stream",
     "text": [
      "Deposited 50000. New balance: 150000\n",
      "Withdrew 20000. New balance: 130000\n",
      "Account number: 25486, Balance: 130000\n",
      "Total accounts: 3\n"
     ]
    }
   ],
   "source": [
    "class BankAccount:\n",
    "    total_accounts = 0\n",
    "    \n",
    "    def __init__(self, account_number, balance=0):\n",
    "        self.account_number = account_number\n",
    "        self.balance = balance\n",
    "        BankAccount.total_accounts += 1\n",
    "    \n",
    "    def deposit(self,total_bal,amount):\n",
    "        self.balance = total_bal\n",
    "        self.balance += amount\n",
    "        print(f\"Deposited {amount}. New balance: {self.balance}\")\n",
    "        BankAccount.total_accounts += 1\n",
    "        \n",
    "    def withdraw(self,total_bal,amount):\n",
    "        self.balance = total_bal\n",
    "        if amount > self.balance:\n",
    "            print(\"Insufficient funds\")\n",
    "        else:\n",
    "            self.balance -= amount\n",
    "            print(f\"Withdrew {amount}. New balance: {self.balance}\")\n",
    "        BankAccount.total_accounts += 1\n",
    "    \n",
    "    def get_balance(self):\n",
    "        return self.balance\n",
    "    \n",
    "    def get_total_accounts():\n",
    "        return BankAccount.total_accounts\n",
    "    \n",
    "acc1 = BankAccount(25486)\n",
    "acc1.balance = 100000\n",
    "\n",
    "acc1.deposit(acc1.balance, 50000)\n",
    "\n",
    "acc1.withdraw(acc1.balance, 20000)\n",
    "\n",
    "print(f\"Account number: {acc1.account_number}, Balance: {acc1.get_balance()}\")\n",
    "\n",
    "print(f\"Total accounts: {BankAccount.get_total_accounts()}\")\n",
    "\n",
    "        \n",
    "    \n",
    "    "
   ]
  },
  {
   "cell_type": "markdown",
   "metadata": {},
   "source": [
    "Create a class called Shape with an abstract method called calculate_area. Implement subclasses Rectangle, Triangle, and Circle that inherit from Shape and implement the calculate_area method accordingly. Create a list of different shapes and calculate their respective areas using polymorphism."
   ]
  },
  {
   "cell_type": "code",
   "execution_count": 9,
   "metadata": {},
   "outputs": [
    {
     "name": "stdout",
     "output_type": "stream",
     "text": [
      "Area of the rectangle: 60\n",
      "Area of the triangle: 42.0\n",
      "Area of the circle: 706.5\n"
     ]
    }
   ],
   "source": [
    "from abc import ABC,abstractmethod\n",
    "class Shape(ABC):\n",
    "    @abstractmethod\n",
    "    def calc_area(self):\n",
    "        pass\n",
    "    \n",
    "class Rectangle(Shape):\n",
    "    def __init__(self, length, width):\n",
    "        self.length = length\n",
    "        self.width = width\n",
    "        \n",
    "    def calc_area(self):\n",
    "        return self.length * self.width\n",
    "\n",
    "class Triangle(Shape):\n",
    "    def __init__(self,base,height):\n",
    "        self.base = base\n",
    "        self.height = height\n",
    "        \n",
    "    def calc_area(self):\n",
    "        return 1/2*(self.base * self.height)\n",
    "    \n",
    "class Circle(Shape):\n",
    "    def __init__(self,radius):\n",
    "        self.radius = radius\n",
    "        \n",
    "    def calc_area(self):\n",
    "        return 3.14 * (self.radius ** 2)\n",
    "\n",
    "rect = Rectangle(12,5)\n",
    "tri = Triangle(7,12)\n",
    "circ = Circle(15)\n",
    "    \n",
    "\n",
    "print(f\"Area of the rectangle: {rect.calc_area()}\")\n",
    "print(f\"Area of the triangle: {tri.calc_area()}\")\n",
    "print(f\"Area of the circle: {circ.calc_area()}\")"
   ]
  },
  {
   "cell_type": "markdown",
   "metadata": {},
   "source": [
    "Create a class called Vehicle with attributes make and model. Implement a method called start_engine that prints a message indicating the vehicle has started. Implement subclasses Car and Motorcycle that inherit from Vehicle and override the start_engine method to provide vehicle-specific messages."
   ]
  }
 ],
 "metadata": {
  "kernelspec": {
   "display_name": "Python 3",
   "language": "python",
   "name": "python3"
  },
  "language_info": {
   "codemirror_mode": {
    "name": "ipython",
    "version": 3
   },
   "file_extension": ".py",
   "mimetype": "text/x-python",
   "name": "python",
   "nbconvert_exporter": "python",
   "pygments_lexer": "ipython3",
   "version": "3.12.4"
  }
 },
 "nbformat": 4,
 "nbformat_minor": 2
}
