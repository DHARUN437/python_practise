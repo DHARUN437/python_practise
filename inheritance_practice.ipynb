{
 "cells": [
  {
   "cell_type": "markdown",
   "metadata": {},
   "source": [
    "Create a class called Shape with attributes color and filled. Implement subclasses Circle and Rectangle that inherit from Shape. Override the calculate_area method in each subclass to calculate the area of the respective shape. Demonstrate polymorphism by creating instances of both subclasses and calling the calculate_area method."
   ]
  },
  {
   "cell_type": "code",
   "execution_count": 7,
   "metadata": {},
   "outputs": [
    {
     "name": "stdout",
     "output_type": "stream",
     "text": [
      "A Red shape with area: 78.53981633974483\n",
      "A Blue shape with area: 24\n"
     ]
    }
   ],
   "source": [
    "import math\n",
    "\n",
    "class Shape:\n",
    "   \n",
    "   def __init__(self, color, filled):\n",
    "        self.color = color\n",
    "        self.filled = filled\n",
    "\n",
    "class Circle(Shape):\n",
    "    def __init__(self, color, filled, radius):\n",
    "        super().__init__(color, filled)\n",
    "        self.radius = radius\n",
    "\n",
    "    def calculate_area(self):\n",
    "        return math.pi * self.radius ** 2\n",
    "    \n",
    "class Rectangle(Shape):\n",
    "    def __init__(self, color, filled, length, width):\n",
    "        super().__init__(color, filled)\n",
    "        self.length = length\n",
    "        self.width = width\n",
    "     \n",
    "    def calculate_area(self):\n",
    "        return self.length * self.width\n",
    "    \n",
    "shapes = [\n",
    "    Circle(\"Red\", True, 5),\n",
    "    Rectangle(\"Blue\", False, 4, 6)\n",
    "]\n",
    "\n",
    "for shape in shapes:\n",
    "    print(f\"A {shape.color} shape with area: {shape.calculate_area()}\")\n",
    "\n",
    "        \n",
    "        "
   ]
  },
  {
   "cell_type": "markdown",
   "metadata": {},
   "source": [
    "Create a class called Animal with a method called make_sound. Implement subclasses Dog and Cat that inherit from Animal. Override the make_sound method in each subclass to produce the appropriate sound for the animal. Demonstrate polymorphism by creating instances of both subclasses and calling the make_sound method."
   ]
  },
  {
   "cell_type": "code",
   "execution_count": 20,
   "metadata": {},
   "outputs": [
    {
     "name": "stdout",
     "output_type": "stream",
     "text": [
      "Nemo barks: Woof!\n",
      "Fluffy meows: Meow!\n"
     ]
    }
   ],
   "source": [
    "class Animal:\n",
    "     def __init__(self, name):\n",
    "        self.name = name\n",
    "        \n",
    "class Dog(Animal):\n",
    "    def make_sound(self):   \n",
    "        return f\"{self.name} barks: Woof!\"\n",
    "\n",
    "class Cat(Animal):\n",
    "    def make_sound(self):\n",
    "        return f\"{self.name} meows: Meow!\"\n",
    "    \n",
    "a = Dog(\"Nemo\")\n",
    "b = Cat(\"Fluffy\")\n",
    "\n",
    "print(a.make_sound())\n",
    "print(b.make_sound())\n",
    "        "
   ]
  }
 ],
 "metadata": {
  "kernelspec": {
   "display_name": "Python 3",
   "language": "python",
   "name": "python3"
  },
  "language_info": {
   "codemirror_mode": {
    "name": "ipython",
    "version": 3
   },
   "file_extension": ".py",
   "mimetype": "text/x-python",
   "name": "python",
   "nbconvert_exporter": "python",
   "pygments_lexer": "ipython3",
   "version": "3.12.4"
  }
 },
 "nbformat": 4,
 "nbformat_minor": 2
}
