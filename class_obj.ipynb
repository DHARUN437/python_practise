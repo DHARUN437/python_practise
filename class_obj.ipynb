{
 "cells": [
  {
   "cell_type": "code",
   "execution_count": 1,
   "metadata": {},
   "outputs": [
    {
     "name": "stdout",
     "output_type": "stream",
     "text": [
      "The red race car is now driving!\n",
      "The red race car has stopped.\n",
      "The blue SUV is now driving!\n",
      "The blue SUV has stopped.\n"
     ]
    }
   ],
   "source": [
    "class ToyCar:\n",
    "    \n",
    "    def __init__(self, color, model):\n",
    "        self.color = color  \n",
    "        self.model = model  \n",
    "   \n",
    "    def drive(self):\n",
    "        print(f\"The {self.color} {self.model} is now driving!\")\n",
    "\n",
    "    def stop(self):\n",
    "        print(f\"The {self.color} {self.model} has stopped.\")\n",
    "\n",
    "car1 = ToyCar(\"red\", \"race car\")\n",
    "car2 = ToyCar(\"blue\", \"SUV\")\n",
    "\n",
    "car1.drive()  \n",
    "car1.stop()   \n",
    "\n",
    "car2.drive() \n",
    "car2.stop()   \n"
   ]
  },
  {
   "cell_type": "code",
   "execution_count": 2,
   "metadata": {},
   "outputs": [
    {
     "name": "stdout",
     "output_type": "stream",
     "text": [
      "Buddy says Woof!\n",
      "Buddy is eating.\n",
      "Whiskers says Meow!\n",
      "Whiskers is eating.\n"
     ]
    }
   ],
   "source": [
    "class Pet:\n",
    "   \n",
    "    def __init__(self, name, type):\n",
    "        self.name = name \n",
    "        self.type = type  \n",
    "\n",
    "    def speak(self):\n",
    "        if self.type == \"dog\":\n",
    "            print(f\"{self.name} says Woof!\")\n",
    "        elif self.type == \"cat\":\n",
    "            print(f\"{self.name} says Meow!\")\n",
    "        else:\n",
    "            print(f\"{self.name} makes a sound!\")\n",
    "\n",
    "    def eat(self):\n",
    "        print(f\"{self.name} is eating.\")\n",
    "\n",
    "pet1 = Pet(\"Buddy\", \"dog\")\n",
    "pet2 = Pet(\"Whiskers\", \"cat\")\n",
    "\n",
    "pet1.speak()  \n",
    "pet1.eat()    \n",
    "\n",
    "pet2.speak()  \n",
    "pet2.eat()    \n"
   ]
  },
  {
   "cell_type": "code",
   "execution_count": 8,
   "metadata": {},
   "outputs": [
    {
     "name": "stdout",
     "output_type": "stream",
     "text": [
      "Dharun is 21 years old so he is eligible to vote\n",
      "Thiru is 16 years old so he is not eligible to vote\n",
      "None\n"
     ]
    }
   ],
   "source": [
    "class Student:\n",
    "    def __init__(self, name, age):\n",
    "        self.name = name\n",
    "        self.age = age\n",
    "    \n",
    "    def vote_eligible(self):\n",
    "        if self.age > 18:\n",
    "            print(f\"{self.name} is {self.age} years old so he is eligible to vote\")\n",
    "        else:\n",
    "            print(print(f\"{self.name} is {self.age} years old so he is not eligible to vote\"))\n",
    "            \n",
    "student1 = Student(\"Dharun\", 21)\n",
    "student2 = Student(\"Thiru\",16)\n",
    "\n",
    "student1.vote_eligible()\n",
    "student2.vote_eligible()"
   ]
  }
 ],
 "metadata": {
  "kernelspec": {
   "display_name": "Python 3",
   "language": "python",
   "name": "python3"
  },
  "language_info": {
   "codemirror_mode": {
    "name": "ipython",
    "version": 3
   },
   "file_extension": ".py",
   "mimetype": "text/x-python",
   "name": "python",
   "nbconvert_exporter": "python",
   "pygments_lexer": "ipython3",
   "version": "3.12.4"
  }
 },
 "nbformat": 4,
 "nbformat_minor": 2
}
