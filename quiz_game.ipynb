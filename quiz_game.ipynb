{
 "cells": [
  {
   "cell_type": "code",
   "execution_count": 1,
   "metadata": {},
   "outputs": [
    {
     "name": "stdout",
     "output_type": "stream",
     "text": [
      "Welcome to my quiz\n",
      "yes\n",
      "Okay Let's play!\n",
      "Correct!\n"
     ]
    }
   ],
   "source": [
    "print(\"Welcome to my quiz\")\n",
    "\n",
    "playing = input(\"Do you want to play? \").lower()\n",
    "print(playing)\n",
    "score = 0\n",
    "if playing != \"yes\":\n",
    "    quit()\n",
    "print(\"Okay Let's play!\")\n",
    "\n",
    "ans = input(\"What is CPU stands for?\")\n",
    "if ans == \"central processing unit\":\n",
    "    print(\"Correct!\")\n",
    "    score += 1\n",
    "else:\n",
    "    print(\"Incorrect! The correct answer is Central Processing Unit.\")\n",
    "    \n",
    "ans = input(\"What is RAM stands for?\")\n",
    "if ans == \"random access memory\":\n",
    "    print(\"Correct!\")\n",
    "    score += 1\n",
    "else:\n",
    "    print(\"Incorrect! The correct answer isRandom acess memory.\")\n",
    "    \n",
    "print(f\"You got {score} points\")"
   ]
  }
 ],
 "metadata": {
  "kernelspec": {
   "display_name": "Python 3",
   "language": "python",
   "name": "python3"
  },
  "language_info": {
   "codemirror_mode": {
    "name": "ipython",
    "version": 3
   },
   "file_extension": ".py",
   "mimetype": "text/x-python",
   "name": "python",
   "nbconvert_exporter": "python",
   "pygments_lexer": "ipython3",
   "version": "3.12.4"
  }
 },
 "nbformat": 4,
 "nbformat_minor": 2
}
