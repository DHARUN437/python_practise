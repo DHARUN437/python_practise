{
 "cells": [
  {
   "cell_type": "markdown",
   "metadata": {},
   "source": [
    "check wheather the number is even or odd using funtion"
   ]
  },
  {
   "cell_type": "code",
   "execution_count": 3,
   "metadata": {},
   "outputs": [
    {
     "data": {
      "text/plain": [
       "'Even'"
      ]
     },
     "execution_count": 3,
     "metadata": {},
     "output_type": "execute_result"
    }
   ],
   "source": [
    "number = int(input(\"enter a number:\"))\n",
    "def even_check(number):    \n",
    "    if number%2 == 0:  \n",
    "        return \"Even\"\n",
    "    else:\n",
    "        return\"Odd\"\n",
    "even_check(number)"
   ]
  },
  {
   "cell_type": "markdown",
   "metadata": {},
   "source": [
    "code to add two numbers using function"
   ]
  },
  {
   "cell_type": "code",
   "execution_count": 1,
   "metadata": {},
   "outputs": [
    {
     "data": {
      "text/plain": [
       "14"
      ]
     },
     "execution_count": 1,
     "metadata": {},
     "output_type": "execute_result"
    }
   ],
   "source": [
    "a = int(input(\"enter a num:\"))\n",
    "b = int(input(\"enter a num:\"))\n",
    "\n",
    "def sum(a,b):\n",
    "    c = a+b \n",
    "    return c  \n",
    "\n",
    "sum(a,b) "
   ]
  },
  {
   "cell_type": "markdown",
   "metadata": {},
   "source": [
    "positional parameters in function"
   ]
  },
  {
   "cell_type": "code",
   "execution_count": 4,
   "metadata": {},
   "outputs": [
    {
     "name": "stdout",
     "output_type": "stream",
     "text": [
      "Hello, Alice! You are 30 years old and you live in New York.\n",
      "Hello, Bob! You are 25 years old and you live in San Francisco.\n",
      "Hello, Charlie! You are 35 years old and you live in Chicago.\n"
     ]
    }
   ],
   "source": [
    "def greet(name, age, city):\n",
    "    print(f\"Hello, {name}! You are {age} years old and you live in {city}.\")\n",
    "\n",
    "greet(\"Alice\", 30, \"New York\")\n",
    "greet(\"Bob\", 25, \"San Francisco\")\n",
    "greet(\"Charlie\", 35, \"Chicago\")"
   ]
  },
  {
   "cell_type": "markdown",
   "metadata": {},
   "source": [
    "positional arguments in function"
   ]
  },
  {
   "cell_type": "code",
   "execution_count": 3,
   "metadata": {},
   "outputs": [
    {
     "name": "stdout",
     "output_type": "stream",
     "text": [
      "Area 1: 50\n",
      "Area 2: 21\n"
     ]
    }
   ],
   "source": [
    "def calculate_area(length, width):\n",
    "    \"\"\"Calculate the area of a rectangle.\"\"\"\n",
    "    return length * width\n",
    "area1 = calculate_area(10, 5)\n",
    "print(f\"Area 1: {area1}\")\n",
    "\n",
    "area2 = calculate_area(7, 3)\n",
    "print(f\"Area 2: {area2}\")"
   ]
  },
  {
   "cell_type": "code",
   "execution_count": 5,
   "metadata": {},
   "outputs": [
    {
     "name": "stdout",
     "output_type": "stream",
     "text": [
      "Name: Alice, Age: 30, City: New York\n",
      "Name: Bob, Age: 25, City: San Francisco\n",
      "Name: Charlie, Age: 35, City: Chicago\n"
     ]
    }
   ],
   "source": [
    "def display_info(name, age, city):\n",
    "    \"\"\"Display information about a person.\"\"\"\n",
    "    print(f\"Name: {name}, Age: {age}, City: {city}\")\n",
    "\n",
    "display_info(\"Alice\", 30, \"New York\")\n",
    "display_info(\"Bob\", 25, \"San Francisco\")\n",
    "display_info(\"Charlie\", 35, \"Chicago\")"
   ]
  },
  {
   "cell_type": "markdown",
   "metadata": {},
   "source": [
    "Arbitrary positional parameters in function"
   ]
  },
  {
   "cell_type": "code",
   "execution_count": 6,
   "metadata": {},
   "outputs": [
    {
     "name": "stdout",
     "output_type": "stream",
     "text": [
      "Sum 1: 6\n",
      "Sum 2: 150\n",
      "Sum 3: 21\n"
     ]
    }
   ],
   "source": [
    "def calculate_sum(*args):\n",
    "    \"\"\"Calculate the sum of all given numbers.\"\"\"\n",
    "    return sum(args)\n",
    "\n",
    "result1 = calculate_sum(1, 2, 3)\n",
    "print(f\"Sum 1: {result1}\")\n",
    "\n",
    "result2 = calculate_sum(10, 20, 30, 40, 50)\n",
    "print(f\"Sum 2: {result2}\")\n",
    "\n",
    "result3 = calculate_sum(7, 14)\n",
    "print(f\"Sum 3: {result3}\")"
   ]
  },
  {
   "cell_type": "code",
   "execution_count": 8,
   "metadata": {},
   "outputs": [
    {
     "name": "stdout",
     "output_type": "stream",
     "text": [
      "Hello, Alice! Your hobbies are:\n",
      "- reading\n",
      "- swimming\n",
      "- cycling\n",
      "Hello, Bob! Your hobbies are:\n",
      "- painting\n",
      "- walking\n",
      "Hello, Charlie! Your hobbies are:\n",
      "- hiking\n",
      "- traveling\n",
      "- photography\n",
      "- cooking\n"
     ]
    }
   ],
   "source": [
    "def greet_and_list_hobbies(name, *hobbies):\n",
    "    \"\"\"Greet the person and list their hobbies.\"\"\"\n",
    "    print(f\"Hello, {name}! Your hobbies are:\")\n",
    "    for hobby in hobbies:\n",
    "        print(f\"- {hobby}\")\n",
    "        \n",
    "greet_and_list_hobbies(\"Alice\", \"reading\", \"swimming\", \"cycling\")\n",
    "greet_and_list_hobbies(\"Bob\", \"painting\", \"walking\")\n",
    "greet_and_list_hobbies(\"Charlie\", \"hiking\", \"traveling\", \"photography\", \"cooking\")"
   ]
  },
  {
   "cell_type": "markdown",
   "metadata": {},
   "source": [
    "Arbitrary keyword arguments"
   ]
  },
  {
   "cell_type": "code",
   "execution_count": 9,
   "metadata": {},
   "outputs": [
    {
     "name": "stdout",
     "output_type": "stream",
     "text": [
      "Name: Alice\n",
      "Age: 30\n",
      "City: New York\n",
      "\n",
      "Name: Bob\n",
      "Age: 25\n",
      "City: San Francisco\n",
      "Occupation: Engineer\n",
      "\n",
      "Name: Charlie\n",
      "Age: 35\n",
      "City: Chicago\n",
      "Occupation: Teacher\n",
      "Hobby: Hiking\n",
      "\n"
     ]
    }
   ],
   "source": [
    "def print_person_info(**kwargs):\n",
    "    \"\"\"Print information about a person.\"\"\"\n",
    "    for key, value in kwargs.items():\n",
    "        print(f\"{key.capitalize()}: {value}\")\n",
    "    print()\n",
    "\n",
    "print_person_info(name=\"Alice\", age=30, city=\"New York\")\n",
    "print_person_info(name=\"Bob\", age=25, city=\"San Francisco\", occupation=\"Engineer\")\n",
    "print_person_info(name=\"Charlie\", age=35, city=\"Chicago\", occupation=\"Teacher\", hobby=\"Hiking\")\n",
    "\n"
   ]
  },
  {
   "cell_type": "code",
   "execution_count": 10,
   "metadata": {},
   "outputs": [
    {
     "name": "stdout",
     "output_type": "stream",
     "text": [
      "Hello!\n",
      "Name: Alice\n",
      "Age: 30\n",
      "City: New York\n",
      "\n",
      "Hi there!\n",
      "Name: Bob\n",
      "Age: 25\n",
      "City: San Francisco\n",
      "Occupation: Engineer\n",
      "\n",
      "Greetings!\n",
      "Name: Charlie\n",
      "Age: 35\n",
      "City: Chicago\n",
      "Occupation: Teacher\n",
      "Hobby: Hiking\n",
      "\n"
     ]
    }
   ],
   "source": [
    "def greet_and_print_info(greeting, **kwargs):\n",
    "    \"\"\"Greet the person and print their information.\"\"\"\n",
    "    print(greeting)\n",
    "    for key, value in kwargs.items():\n",
    "        print(f\"{key.capitalize()}: {value}\")\n",
    "    print()\n",
    "\n",
    "greet_and_print_info(\"Hello!\", name=\"Alice\", age=30, city=\"New York\")\n",
    "greet_and_print_info(\"Hi there!\", name=\"Bob\", age=25, city=\"San Francisco\", occupation=\"Engineer\")\n",
    "greet_and_print_info(\"Greetings!\", name=\"Charlie\", age=35, city=\"Chicago\", occupation=\"Teacher\", hobby=\"Hiking\")\n"
   ]
  }
 ],
 "metadata": {
  "kernelspec": {
   "display_name": "Python 3",
   "language": "python",
   "name": "python3"
  },
  "language_info": {
   "codemirror_mode": {
    "name": "ipython",
    "version": 3
   },
   "file_extension": ".py",
   "mimetype": "text/x-python",
   "name": "python",
   "nbconvert_exporter": "python",
   "pygments_lexer": "ipython3",
   "version": "3.12.4"
  }
 },
 "nbformat": 4,
 "nbformat_minor": 2
}
